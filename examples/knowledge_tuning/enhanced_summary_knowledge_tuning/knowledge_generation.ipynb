{
 "cells": [
  {
   "cell_type": "code",
   "execution_count": 1,
   "metadata": {},
   "outputs": [],
   "source": [
    "%load_ext autoreload\n",
    "%autoreload 2"
   ]
  },
  {
   "cell_type": "markdown",
   "metadata": {},
   "source": [
    "### Install SDG\n",
    "```bash \n",
    "git clone https://github.com/Red-Hat-AI-Innovation-Team/sdg_hub.git\n",
    "cd sdg_hub\n",
    "pip install .[examples]\n",
    "copy the .env.example to .env and set the model endpoint and generation/mixing parameters\n",
    "```\n",
    "**⚠️ If you haven't already, run the document pre-processing notebook to create the seed data.**"
   ]
  },
  {
   "cell_type": "code",
   "execution_count": 2,
   "metadata": {},
   "outputs": [
    {
     "name": "stderr",
     "output_type": "stream",
     "text": [
      "/Users/abhishek/rotation_project/sdg_hub/.venv/lib/python3.13/site-packages/tqdm/auto.py:21: TqdmWarning: IProgress not found. Please update jupyter and ipywidgets. See https://ipywidgets.readthedocs.io/en/stable/user_install.html\n",
      "  from .autonotebook import tqdm as notebook_tqdm\n"
     ]
    },
    {
     "data": {
      "text/plain": [
       "True"
      ]
     },
     "execution_count": 2,
     "metadata": {},
     "output_type": "execute_result"
    }
   ],
   "source": [
    "# Third Party\n",
    "from datasets import load_dataset\n",
    "from dotenv import load_dotenv\n",
    "\n",
    "# First Party\n",
    "from sdg_hub import Flow, FlowRegistry\n",
    "import os\n",
    "\n",
    "# Load environment variables from .env file\n",
    "load_dotenv()"
   ]
  },
  {
   "cell_type": "code",
   "execution_count": 3,
   "metadata": {},
   "outputs": [],
   "source": [
    "# Required to run the flow with async mode\n",
    "import nest_asyncio\n",
    "\n",
    "nest_asyncio.apply()  "
   ]
  },
  {
   "cell_type": "code",
   "execution_count": 4,
   "metadata": {},
   "outputs": [],
   "source": [
    "def create_seed_data(run_on_validation=None, seed_data_path=None):\n",
    "    \"\"\"\n",
    "    Create seed data from QuALITY Benchmark dataset.\n",
    "    \n",
    "    Args:\n",
    "        run_on_validation (bool, optional): If True, use validation subset. If None, reads from env.\n",
    "        seed_data_path (str, optional): Path to save seed data. If None, reads from env.\n",
    "    \n",
    "    Returns:\n",
    "        datasets.Dataset: The processed corpus\n",
    "    \"\"\"\n",
    "    # Use environment variables as defaults if not provided\n",
    "    if run_on_validation is None:\n",
    "        run_on_validation = os.getenv('RUN_ON_VALIDATION_SET', 'true').lower() == 'true'\n",
    "    if seed_data_path is None:\n",
    "        seed_data_path = os.getenv('SEED_DATA_PATH', 'seed_data_val.jsonl')\n",
    "    \n",
    "    # Load QuALITY Benchmark dataset\n",
    "    print(\"Loading QuALITY Benchmark dataset...\")\n",
    "    quality_corpus = load_dataset(\"zitongyang/entigraph-quality-corpus\", split='train').remove_columns(['entity', 'entigraph']).rename_columns({'raw': 'document', 'uid': 'document_outline'})\n",
    "    \n",
    "    # Define seed examples for knowledge tuning\n",
    "    seed_examples = {\n",
    "        \"icl_document\": (\n",
    "          \"The coastal town of Willow Creek, once renowned for its pristine beaches, now struggles with rampant pollution. Plastic debris and oil spills have devastated marine life, prompting a decline in tourism and fishing industries. Residents have organized weekly clean-up initiatives, but the scale of the problem overwhelms their efforts.\",\n",
    "          \"Technologists at the local university have developed an AI-powered buoy system to combat this. The buoys, equipped with solar panels and filtration technology, can identify and absorb oil spills while collecting microplastics. Data from the buoys is shared publicly, raising awareness and pressuring corporations to adopt sustainable practices. Though costly, the project has sparked hope for revitalizing the ecosystem and economy.\"\n",
    "        ),\n",
    "        \"icl_query_1\": \"How does the technological solution address the economic *and* environmental challenges highlighted in the document?\",\n",
    "        \"icl_query_2\": \"What implicit values or priorities do the community's actions (clean-up initiatives) and the technologists' project reflect, and how do these align or contrast?\",\n",
    "        \"icl_query_3\": \"Imagine the buoy project succeeds. What unintended consequences might arise from its impact, considering document's themes?\",\n",
    "        \"domain\": \"articles/essays\"\n",
    "    }\n",
    "    \n",
    "    # Add seed examples to the corpus\n",
    "    quality_corpus = quality_corpus.map(lambda x: seed_examples)\n",
    "    \n",
    "    if run_on_validation:\n",
    "        # Validation set - use predefined document IDs for consistent evaluation\n",
    "        DOC_UIDS = [\n",
    "            ' Defining Decay Down by David Plotz',\n",
    "            ' Fight Clubbed by David Plotz',\n",
    "            ' I, Antichrist? by Jeffrey Goldberg',\n",
    "            \" It's Time To Keelhaul U-Haul! by Jeffrey Goldberg\",\n",
    "            \" My Father's Estate by Ben Stein\",\n",
    "            '\"Phone Me in Central Park\" by McConnell, James V.',\n",
    "            'A Coffin for Jacob by Ludwig, Edward W.',\n",
    "            'A Fall of Glass by Lee, Stanley R.',\n",
    "            'A Filbert Is a Nut by Raphael, Rick',\n",
    "            'A Gift from Earth by Banister, Manly',\n",
    "            'A Gleeb for Earth by Schafhauser, Charles',\n",
    "            'A Good Year for the Roses? by David Edelstein',\n",
    "            'A Pail of Air by Leiber, Fritz',\n",
    "            'A Planet Named Joe by Hunter, Evan',\n",
    "            \"AI: what's the worst that could happen? by Harry Armstrong\",\n",
    "            'Accidental Death by Baily, Peter',\n",
    "            'All Day September by Kuykendall, Roger',\n",
    "            'Ambition by Bade, William L.',\n",
    "            'And Then the Town Took Off by Wilson, Richard',\n",
    "            'Atom Mystery [Young Atom Detective] by Coombs, Charles Ira',\n",
    "            'Beach Scene by King, Marshall',\n",
    "            'Big Ancestor by Wallace, F. L. (Floyd L.)',\n",
    "            'Birds of a Feather by Silverberg, Robert',\n",
    "            'Bodyguard by Gold, H. L. (Horace Leonard)'\n",
    "        ]\n",
    "        \n",
    "        # Filter corpus to validation set\n",
    "        quality_corpus = quality_corpus.filter(lambda x: x['document_outline'] in DOC_UIDS)\n",
    "        print(f\"Running on validation set with {len(quality_corpus)} documents\")\n",
    "    else:\n",
    "        # Use full dataset for training\n",
    "        print(f\"Running on full dataset with {len(quality_corpus)} documents\")\n",
    "    \n",
    "    # Save the seed data\n",
    "    quality_corpus.to_json(seed_data_path, orient='records', lines=True)\n",
    "    print(f\"Saved seed data to: {seed_data_path}\")\n",
    "    \n",
    "    return quality_corpus"
   ]
  },
  {
   "cell_type": "code",
   "execution_count": 5,
   "metadata": {},
   "outputs": [
    {
     "name": "stderr",
     "output_type": "stream",
     "text": [
      "Using the latest cached version of the dataset since zitongyang/entigraph-quality-corpus couldn't be found on the Hugging Face Hub\n",
      "Found the latest cached dataset configuration 'default' at /Users/abhishek/.cache/huggingface/datasets/zitongyang___entigraph-quality-corpus/default/0.0.0/21a5f76b306febfa3d22ab10de06b1f682f2d0f7 (last modified on Wed Sep 17 16:57:04 2025).\n"
     ]
    },
    {
     "name": "stdout",
     "output_type": "stream",
     "text": [
      "Loading QuALITY Benchmark dataset...\n",
      "Running on validation set with 24 documents\n"
     ]
    },
    {
     "name": "stderr",
     "output_type": "stream",
     "text": [
      "Creating json from Arrow format: 100%|██████████| 1/1 [00:00<00:00, 266.46ba/s]"
     ]
    },
    {
     "name": "stdout",
     "output_type": "stream",
     "text": [
      "Saved seed data to: seed_data_val.jsonl\n"
     ]
    },
    {
     "name": "stderr",
     "output_type": "stream",
     "text": [
      "\n"
     ]
    }
   ],
   "source": [
    "# Create seed data using the function\n",
    "quality_corpus = create_seed_data().select([1])"
   ]
  },
  {
   "cell_type": "markdown",
   "metadata": {},
   "source": [
    "### Run SDG\n",
    "- This will create knowledge flow from provided yaml file\n",
    "- We will run this on small dataset for demo purposes\n",
    "- For large scale generation, please use the python command provided in the next cell\n",
    "- You can analyze the generated data to ensure the quality is similar to proivded QnA pairs"
   ]
  },
  {
   "cell_type": "code",
   "execution_count": 6,
   "metadata": {},
   "outputs": [],
   "source": [
    "# Setup model configuration in flow object\n",
    "def set_model_config(flow_object):\n",
    "    model_provider = os.getenv('MODEL_PROVIDER', 'hosted_vllm')\n",
    "    print(f\"Using model provider: {model_provider}\")\n",
    "    # Set model provider\n",
    "    if model_provider == 'hosted_vllm':    \n",
    "        vllm_model = os.getenv('VLLM_MODEL', 'hosted_vllm/meta-llama/Llama-3.3-70B-Instruct')\n",
    "        vllm_api_base = os.getenv('VLLM_API_BASE', 'http://localhost:8000/v1')\n",
    "        vllm_api_key = os.getenv('VLLM_API_KEY', 'EMPTY')\n",
    "        enable_reasoning = os.getenv('ENABLE_REASONING', False).lower() in ('1', 'true', 'yes')\n",
    "        print(f\"Using reasoning: {enable_reasoning}\")\n",
    "        flow_object.set_model_config(\n",
    "            model=vllm_model,\n",
    "            api_base=vllm_api_base,\n",
    "            api_key=vllm_api_key,\n",
    "            enable_reasoning=enable_reasoning,\n",
    "        )\n",
    "    elif model_provider == 'openai':\n",
    "        openai_api_key = os.getenv('OPENAI_API_KEY')\n",
    "        openai_model = os.getenv('OPENAI_MODEL', 'openai/gpt-4')\n",
    "        flow_object.set_model_config(\n",
    "            model=openai_model,\n",
    "            api_key=openai_api_key,\n",
    "        )\n",
    "    elif model_provider == 'ollama':\n",
    "        ollama_model = os.getenv('OLLAMA_MODEL', 'ollama/gemma2')\n",
    "        ollama_api_base = os.getenv('OLLAMA_API_BASE', 'http://localhost:11434')\n",
    "        flow_object.set_model_config(\n",
    "            model=ollama_model,\n",
    "            api_base=ollama_api_base,\n",
    "        )\n",
    "    elif model_provider == 'maas':\n",
    "        maas_model = os.getenv('MAAS_MODEL')\n",
    "        maas_api_base = os.getenv('MAAS_API_BASE')\n",
    "        maas_api_key = os.getenv('MAAS_API_KEY')\n",
    "        flow_object.set_model_config(\n",
    "            model=maas_model,\n",
    "            api_base=maas_api_base,\n",
    "            api_key=maas_api_key,\n",
    "        )\n",
    "    return flow_object "
   ]
  },
  {
   "cell_type": "markdown",
   "metadata": {},
   "source": [
    "#### Discover the available generation flows"
   ]
  },
  {
   "cell_type": "code",
   "execution_count": 7,
   "metadata": {},
   "outputs": [
    {
     "data": {
      "text/html": [
       "<pre style=\"white-space:pre;overflow-x:auto;line-height:normal;font-family:Menlo,'DejaVu Sans Mono',consolas,'Courier New',monospace\"><span style=\"color: #7fbfbf; text-decoration-color: #7fbfbf\">[18:28:43] </span><span style=\"color: #000080; text-decoration-color: #000080\">INFO    </span> Discovered <span style=\"color: #008080; text-decoration-color: #008080; font-weight: bold\">5</span> flows                                                              <a href=\"file:///Users/abhishek/rotation_project/sdg_hub/src/sdg_hub/core/flow/registry.py\" target=\"_blank\"><span style=\"color: #7f7f7f; text-decoration-color: #7f7f7f\">registry.py</span></a><span style=\"color: #7f7f7f; text-decoration-color: #7f7f7f\">:</span><a href=\"file:///Users/abhishek/rotation_project/sdg_hub/src/sdg_hub/core/flow/registry.py#113\" target=\"_blank\"><span style=\"color: #7f7f7f; text-decoration-color: #7f7f7f\">113</span></a>\n",
       "</pre>\n"
      ],
      "text/plain": [
       "\u001b[2;36m[18:28:43]\u001b[0m\u001b[2;36m \u001b[0m\u001b[34mINFO    \u001b[0m Discovered \u001b[1;36m5\u001b[0m flows                                                              \u001b]8;id=986929;file:///Users/abhishek/rotation_project/sdg_hub/src/sdg_hub/core/flow/registry.py\u001b\\\u001b[2mregistry.py\u001b[0m\u001b]8;;\u001b\\\u001b[2m:\u001b[0m\u001b]8;id=885535;file:///Users/abhishek/rotation_project/sdg_hub/src/sdg_hub/core/flow/registry.py#113\u001b\\\u001b[2m113\u001b[0m\u001b]8;;\u001b\\\n"
      ]
     },
     "metadata": {},
     "output_type": "display_data"
    },
    {
     "data": {
      "text/html": [
       "<pre style=\"white-space:pre;overflow-x:auto;line-height:normal;font-family:Menlo,'DejaVu Sans Mono',consolas,'Courier New',monospace\">┏━━━━━━━━━━━━━━━━━━┳━━━━━━━━━━━━━━━━━━━━━━━┳━━━━━━━━━━━━━━━━━━━━━━┳━━━━━━━━━━━━━━━━━━━━━━━┳━━━━━━━━━━━━━━━━━━━━━━━┓\n",
       "┃<span style=\"color: #ff00ff; text-decoration-color: #ff00ff; font-weight: bold\"> ID               </span>┃<span style=\"color: #ff00ff; text-decoration-color: #ff00ff; font-weight: bold\"> Name                  </span>┃<span style=\"color: #ff00ff; text-decoration-color: #ff00ff; font-weight: bold\"> Author               </span>┃<span style=\"color: #ff00ff; text-decoration-color: #ff00ff; font-weight: bold\"> Tags                  </span>┃<span style=\"color: #ff00ff; text-decoration-color: #ff00ff; font-weight: bold\"> Description           </span>┃\n",
       "┡━━━━━━━━━━━━━━━━━━╇━━━━━━━━━━━━━━━━━━━━━━━╇━━━━━━━━━━━━━━━━━━━━━━╇━━━━━━━━━━━━━━━━━━━━━━━╇━━━━━━━━━━━━━━━━━━━━━━━┩\n",
       "│<span style=\"color: #ff00ff; text-decoration-color: #ff00ff; font-weight: bold\"> epic-jade-656    </span>│<span style=\"color: #00ffff; text-decoration-color: #00ffff; font-weight: bold\"> Extractive Summary    </span>│<span style=\"color: #00ff00; text-decoration-color: #00ff00\"> SDG Hub Contributors </span>│<span style=\"color: #808000; text-decoration-color: #808000\"> knowledge-tuning,     </span>│<span style=\"color: #c0c0c0; text-decoration-color: #c0c0c0\"> Generate extractive   </span>│\n",
       "│<span style=\"color: #ff00ff; text-decoration-color: #ff00ff; font-weight: bold\">                  </span>│<span style=\"color: #00ffff; text-decoration-color: #00ffff; font-weight: bold\"> Knowledge Tuning      </span>│<span style=\"color: #00ff00; text-decoration-color: #00ff00\">                      </span>│<span style=\"color: #808000; text-decoration-color: #808000\"> document-internaliza… </span>│<span style=\"color: #c0c0c0; text-decoration-color: #c0c0c0\"> summary from the      </span>│\n",
       "│<span style=\"color: #ff00ff; text-decoration-color: #ff00ff; font-weight: bold\">                  </span>│<span style=\"color: #00ffff; text-decoration-color: #00ffff; font-weight: bold\"> Dataset Generation    </span>│<span style=\"color: #00ff00; text-decoration-color: #00ff00\">                      </span>│<span style=\"color: #808000; text-decoration-color: #808000\"> question-generation,  </span>│<span style=\"color: #c0c0c0; text-decoration-color: #c0c0c0\"> input document. Each  </span>│\n",
       "│<span style=\"color: #ff00ff; text-decoration-color: #ff00ff; font-weight: bold\">                  </span>│<span style=\"color: #00ffff; text-decoration-color: #00ffff; font-weight: bold\"> Flow                  </span>│<span style=\"color: #00ff00; text-decoration-color: #00ff00\">                      </span>│<span style=\"color: #808000; text-decoration-color: #808000\"> knowledge-extractive… </span>│<span style=\"color: #c0c0c0; text-decoration-color: #c0c0c0\"> document is first     </span>│\n",
       "│<span style=\"color: #ff00ff; text-decoration-color: #ff00ff; font-weight: bold\">                  </span>│<span style=\"color: #00ffff; text-decoration-color: #00ffff; font-weight: bold\">                       </span>│<span style=\"color: #00ff00; text-decoration-color: #00ff00\">                      </span>│<span style=\"color: #808000; text-decoration-color: #808000\"> qa-pairs,             </span>│<span style=\"color: #c0c0c0; text-decoration-color: #c0c0c0\"> converted into list   </span>│\n",
       "│<span style=\"color: #ff00ff; text-decoration-color: #ff00ff; font-weight: bold\">                  </span>│<span style=\"color: #00ffff; text-decoration-color: #00ffff; font-weight: bold\">                       </span>│<span style=\"color: #00ff00; text-decoration-color: #00ff00\">                      </span>│<span style=\"color: #808000; text-decoration-color: #808000\"> extractive-summaries  </span>│<span style=\"color: #c0c0c0; text-decoration-color: #c0c0c0\"> of knowledge segments </span>│\n",
       "│<span style=\"color: #ff00ff; text-decoration-color: #ff00ff; font-weight: bold\">                  </span>│<span style=\"color: #00ffff; text-decoration-color: #00ffff; font-weight: bold\">                       </span>│<span style=\"color: #00ff00; text-decoration-color: #00ff00\">                      </span>│<span style=\"color: #808000; text-decoration-color: #808000\">                       </span>│<span style=\"color: #c0c0c0; text-decoration-color: #c0c0c0\"> for creating          </span>│\n",
       "│<span style=\"color: #ff00ff; text-decoration-color: #ff00ff; font-weight: bold\">                  </span>│<span style=\"color: #00ffff; text-decoration-color: #00ffff; font-weight: bold\">                       </span>│<span style=\"color: #00ff00; text-decoration-color: #00ff00\">                      </span>│<span style=\"color: #808000; text-decoration-color: #808000\">                       </span>│<span style=\"color: #c0c0c0; text-decoration-color: #c0c0c0\"> extractive summary    </span>│\n",
       "│<span style=\"color: #ff00ff; text-decoration-color: #ff00ff; font-weight: bold\">                  </span>│<span style=\"color: #00ffff; text-decoration-color: #00ffff; font-weight: bold\">                       </span>│<span style=\"color: #00ff00; text-decoration-color: #00ff00\">                      </span>│<span style=\"color: #808000; text-decoration-color: #808000\">                       </span>│<span style=\"color: #c0c0c0; text-decoration-color: #c0c0c0\"> and then annotated    </span>│\n",
       "│<span style=\"color: #ff00ff; text-decoration-color: #ff00ff; font-weight: bold\">                  </span>│<span style=\"color: #00ffff; text-decoration-color: #00ffff; font-weight: bold\">                       </span>│<span style=\"color: #00ff00; text-decoration-color: #00ff00\">                      </span>│<span style=\"color: #808000; text-decoration-color: #808000\">                       </span>│<span style=\"color: #c0c0c0; text-decoration-color: #c0c0c0\"> with context,         </span>│\n",
       "│<span style=\"color: #ff00ff; text-decoration-color: #ff00ff; font-weight: bold\">                  </span>│<span style=\"color: #00ffff; text-decoration-color: #00ffff; font-weight: bold\">                       </span>│<span style=\"color: #00ff00; text-decoration-color: #00ff00\">                      </span>│<span style=\"color: #808000; text-decoration-color: #808000\">                       </span>│<span style=\"color: #c0c0c0; text-decoration-color: #c0c0c0\"> relationship and      </span>│\n",
       "│<span style=\"color: #ff00ff; text-decoration-color: #ff00ff; font-weight: bold\">                  </span>│<span style=\"color: #00ffff; text-decoration-color: #00ffff; font-weight: bold\">                       </span>│<span style=\"color: #00ff00; text-decoration-color: #00ff00\">                      </span>│<span style=\"color: #808000; text-decoration-color: #808000\">                       </span>│<span style=\"color: #c0c0c0; text-decoration-color: #c0c0c0\"> relevance. This is    </span>│\n",
       "│<span style=\"color: #ff00ff; text-decoration-color: #ff00ff; font-weight: bold\">                  </span>│<span style=\"color: #00ffff; text-decoration-color: #00ffff; font-weight: bold\">                       </span>│<span style=\"color: #00ff00; text-decoration-color: #00ff00\">                      </span>│<span style=\"color: #808000; text-decoration-color: #808000\">                       </span>│<span style=\"color: #c0c0c0; text-decoration-color: #c0c0c0\"> then converted into   </span>│\n",
       "│<span style=\"color: #ff00ff; text-decoration-color: #ff00ff; font-weight: bold\">                  </span>│<span style=\"color: #00ffff; text-decoration-color: #00ffff; font-weight: bold\">                       </span>│<span style=\"color: #00ff00; text-decoration-color: #00ff00\">                      </span>│<span style=\"color: #808000; text-decoration-color: #808000\">                       </span>│<span style=\"color: #c0c0c0; text-decoration-color: #c0c0c0\"> Question-Answer       </span>│\n",
       "│<span style=\"color: #ff00ff; text-decoration-color: #ff00ff; font-weight: bold\">                  </span>│<span style=\"color: #00ffff; text-decoration-color: #00ffff; font-weight: bold\">                       </span>│<span style=\"color: #00ff00; text-decoration-color: #00ff00\">                      </span>│<span style=\"color: #808000; text-decoration-color: #808000\">                       </span>│<span style=\"color: #c0c0c0; text-decoration-color: #c0c0c0\"> pairs.                </span>│\n",
       "│<span style=\"color: #ff00ff; text-decoration-color: #ff00ff; font-weight: bold\"> green-clay-812   </span>│<span style=\"color: #00ffff; text-decoration-color: #00ffff; font-weight: bold\"> Structured Text       </span>│<span style=\"color: #00ff00; text-decoration-color: #00ff00\"> SDG Hub Contributors </span>│<span style=\"color: #808000; text-decoration-color: #808000\"> text-analysis,        </span>│<span style=\"color: #c0c0c0; text-decoration-color: #c0c0c0\"> Multi-step pipeline   </span>│\n",
       "│<span style=\"color: #ff00ff; text-decoration-color: #ff00ff; font-weight: bold\">                  </span>│<span style=\"color: #00ffff; text-decoration-color: #00ffff; font-weight: bold\"> Insights Extraction   </span>│<span style=\"color: #00ff00; text-decoration-color: #00ff00\">                      </span>│<span style=\"color: #808000; text-decoration-color: #808000\"> summarization, nlp,   </span>│<span style=\"color: #c0c0c0; text-decoration-color: #c0c0c0\"> for extracting        </span>│\n",
       "│<span style=\"color: #ff00ff; text-decoration-color: #ff00ff; font-weight: bold\">                  </span>│<span style=\"color: #00ffff; text-decoration-color: #00ffff; font-weight: bold\"> Flow                  </span>│<span style=\"color: #00ff00; text-decoration-color: #00ff00\">                      </span>│<span style=\"color: #808000; text-decoration-color: #808000\"> structured-output,    </span>│<span style=\"color: #c0c0c0; text-decoration-color: #c0c0c0\"> structured insights   </span>│\n",
       "│<span style=\"color: #ff00ff; text-decoration-color: #ff00ff; font-weight: bold\">                  </span>│<span style=\"color: #00ffff; text-decoration-color: #00ffff; font-weight: bold\">                       </span>│<span style=\"color: #00ff00; text-decoration-color: #00ff00\">                      </span>│<span style=\"color: #808000; text-decoration-color: #808000\"> insights,             </span>│<span style=\"color: #c0c0c0; text-decoration-color: #c0c0c0\"> from text including   </span>│\n",
       "│<span style=\"color: #ff00ff; text-decoration-color: #ff00ff; font-weight: bold\">                  </span>│<span style=\"color: #00ffff; text-decoration-color: #00ffff; font-weight: bold\">                       </span>│<span style=\"color: #00ff00; text-decoration-color: #00ff00\">                      </span>│<span style=\"color: #808000; text-decoration-color: #808000\"> sentiment-analysis,   </span>│<span style=\"color: #c0c0c0; text-decoration-color: #c0c0c0\"> summary, keywords,    </span>│\n",
       "│<span style=\"color: #ff00ff; text-decoration-color: #ff00ff; font-weight: bold\">                  </span>│<span style=\"color: #00ffff; text-decoration-color: #00ffff; font-weight: bold\">                       </span>│<span style=\"color: #00ff00; text-decoration-color: #00ff00\">                      </span>│<span style=\"color: #808000; text-decoration-color: #808000\"> entity-extraction,    </span>│<span style=\"color: #c0c0c0; text-decoration-color: #c0c0c0\"> entities, and         </span>│\n",
       "│<span style=\"color: #ff00ff; text-decoration-color: #ff00ff; font-weight: bold\">                  </span>│<span style=\"color: #00ffff; text-decoration-color: #00ffff; font-weight: bold\">                       </span>│<span style=\"color: #00ff00; text-decoration-color: #00ff00\">                      </span>│<span style=\"color: #808000; text-decoration-color: #808000\"> keyword-extraction    </span>│<span style=\"color: #c0c0c0; text-decoration-color: #c0c0c0\"> sentiment analysis    </span>│\n",
       "│<span style=\"color: #ff00ff; text-decoration-color: #ff00ff; font-weight: bold\">                  </span>│<span style=\"color: #00ffff; text-decoration-color: #00ffff; font-weight: bold\">                       </span>│<span style=\"color: #00ff00; text-decoration-color: #00ff00\">                      </span>│<span style=\"color: #808000; text-decoration-color: #808000\">                       </span>│<span style=\"color: #c0c0c0; text-decoration-color: #c0c0c0\"> combined into a JSON  </span>│\n",
       "│<span style=\"color: #ff00ff; text-decoration-color: #ff00ff; font-weight: bold\">                  </span>│<span style=\"color: #00ffff; text-decoration-color: #00ffff; font-weight: bold\">                       </span>│<span style=\"color: #00ff00; text-decoration-color: #00ff00\">                      </span>│<span style=\"color: #808000; text-decoration-color: #808000\">                       </span>│<span style=\"color: #c0c0c0; text-decoration-color: #c0c0c0\"> output                </span>│\n",
       "│<span style=\"color: #ff00ff; text-decoration-color: #ff00ff; font-weight: bold\"> heavy-heart-77   </span>│<span style=\"color: #00ffff; text-decoration-color: #00ffff; font-weight: bold\"> Key Facts Knowledge   </span>│<span style=\"color: #00ff00; text-decoration-color: #00ff00\"> SDG Hub Contributors </span>│<span style=\"color: #808000; text-decoration-color: #808000\"> knowledge-tuning,     </span>│<span style=\"color: #c0c0c0; text-decoration-color: #c0c0c0\"> Generating list of    </span>│\n",
       "│<span style=\"color: #ff00ff; text-decoration-color: #ff00ff; font-weight: bold\">                  </span>│<span style=\"color: #00ffff; text-decoration-color: #00ffff; font-weight: bold\"> Tuning Dataset        </span>│<span style=\"color: #00ff00; text-decoration-color: #00ff00\">                      </span>│<span style=\"color: #808000; text-decoration-color: #808000\"> document-internaliza… </span>│<span style=\"color: #c0c0c0; text-decoration-color: #c0c0c0\"> atomic facts from a   </span>│\n",
       "│<span style=\"color: #ff00ff; text-decoration-color: #ff00ff; font-weight: bold\">                  </span>│<span style=\"color: #00ffff; text-decoration-color: #00ffff; font-weight: bold\"> Generation Flow       </span>│<span style=\"color: #00ff00; text-decoration-color: #00ff00\">                      </span>│<span style=\"color: #808000; text-decoration-color: #808000\"> question-generation,  </span>│<span style=\"color: #c0c0c0; text-decoration-color: #c0c0c0\"> document and          </span>│\n",
       "│<span style=\"color: #ff00ff; text-decoration-color: #ff00ff; font-weight: bold\">                  </span>│<span style=\"color: #00ffff; text-decoration-color: #00ffff; font-weight: bold\">                       </span>│<span style=\"color: #00ff00; text-decoration-color: #00ff00\">                      </span>│<span style=\"color: #808000; text-decoration-color: #808000\"> qa-pairs, key-facts   </span>│<span style=\"color: #c0c0c0; text-decoration-color: #c0c0c0\"> converting each       </span>│\n",
       "│<span style=\"color: #ff00ff; text-decoration-color: #ff00ff; font-weight: bold\">                  </span>│<span style=\"color: #00ffff; text-decoration-color: #00ffff; font-weight: bold\">                       </span>│<span style=\"color: #00ff00; text-decoration-color: #00ff00\">                      </span>│<span style=\"color: #808000; text-decoration-color: #808000\">                       </span>│<span style=\"color: #c0c0c0; text-decoration-color: #c0c0c0\"> atomic fact into a QA </span>│\n",
       "│<span style=\"color: #ff00ff; text-decoration-color: #ff00ff; font-weight: bold\">                  </span>│<span style=\"color: #00ffff; text-decoration-color: #00ffff; font-weight: bold\">                       </span>│<span style=\"color: #00ff00; text-decoration-color: #00ff00\">                      </span>│<span style=\"color: #808000; text-decoration-color: #808000\">                       </span>│<span style=\"color: #c0c0c0; text-decoration-color: #c0c0c0\"> pair. This flow will  </span>│\n",
       "│<span style=\"color: #ff00ff; text-decoration-color: #ff00ff; font-weight: bold\">                  </span>│<span style=\"color: #00ffff; text-decoration-color: #00ffff; font-weight: bold\">                       </span>│<span style=\"color: #00ff00; text-decoration-color: #00ff00\">                      </span>│<span style=\"color: #808000; text-decoration-color: #808000\">                       </span>│<span style=\"color: #c0c0c0; text-decoration-color: #c0c0c0\"> generate 5 QA pairs   </span>│\n",
       "│<span style=\"color: #ff00ff; text-decoration-color: #ff00ff; font-weight: bold\">                  </span>│<span style=\"color: #00ffff; text-decoration-color: #00ffff; font-weight: bold\">                       </span>│<span style=\"color: #00ff00; text-decoration-color: #00ff00\">                      </span>│<span style=\"color: #808000; text-decoration-color: #808000\">                       </span>│<span style=\"color: #c0c0c0; text-decoration-color: #c0c0c0\"> for each atomic fact. </span>│\n",
       "│<span style=\"color: #ff00ff; text-decoration-color: #ff00ff; font-weight: bold\"> mild-thunder-748 </span>│<span style=\"color: #00ffff; text-decoration-color: #00ffff; font-weight: bold\"> Detailed Summary      </span>│<span style=\"color: #00ff00; text-decoration-color: #00ff00\"> SDG Hub Contributors </span>│<span style=\"color: #808000; text-decoration-color: #808000\"> knowledge-tuning,     </span>│<span style=\"color: #c0c0c0; text-decoration-color: #c0c0c0\"> Generates high level  </span>│\n",
       "│<span style=\"color: #ff00ff; text-decoration-color: #ff00ff; font-weight: bold\">                  </span>│<span style=\"color: #00ffff; text-decoration-color: #00ffff; font-weight: bold\"> Knowledge Tuning      </span>│<span style=\"color: #00ff00; text-decoration-color: #00ff00\">                      </span>│<span style=\"color: #808000; text-decoration-color: #808000\"> document-internaliza… </span>│<span style=\"color: #c0c0c0; text-decoration-color: #c0c0c0\"> summaries of the      </span>│\n",
       "│<span style=\"color: #ff00ff; text-decoration-color: #ff00ff; font-weight: bold\">                  </span>│<span style=\"color: #00ffff; text-decoration-color: #00ffff; font-weight: bold\"> Dataset Generation    </span>│<span style=\"color: #00ff00; text-decoration-color: #00ff00\">                      </span>│<span style=\"color: #808000; text-decoration-color: #808000\"> question-generation,  </span>│<span style=\"color: #c0c0c0; text-decoration-color: #c0c0c0\"> document focusing on  </span>│\n",
       "│<span style=\"color: #ff00ff; text-decoration-color: #ff00ff; font-weight: bold\">                  </span>│<span style=\"color: #00ffff; text-decoration-color: #00ffff; font-weight: bold\"> Flow                  </span>│<span style=\"color: #00ff00; text-decoration-color: #00ff00\">                      </span>│<span style=\"color: #808000; text-decoration-color: #808000\"> qa-pairs,             </span>│<span style=\"color: #c0c0c0; text-decoration-color: #c0c0c0\"> overarching themes,   </span>│\n",
       "│<span style=\"color: #ff00ff; text-decoration-color: #ff00ff; font-weight: bold\">                  </span>│<span style=\"color: #00ffff; text-decoration-color: #00ffff; font-weight: bold\">                       </span>│<span style=\"color: #00ff00; text-decoration-color: #00ff00\">                      </span>│<span style=\"color: #808000; text-decoration-color: #808000\"> detailed-summaries    </span>│<span style=\"color: #c0c0c0; text-decoration-color: #c0c0c0\"> main arguments, and   </span>│\n",
       "│<span style=\"color: #ff00ff; text-decoration-color: #ff00ff; font-weight: bold\">                  </span>│<span style=\"color: #00ffff; text-decoration-color: #00ffff; font-weight: bold\">                       </span>│<span style=\"color: #00ff00; text-decoration-color: #00ff00\">                      </span>│<span style=\"color: #808000; text-decoration-color: #808000\">                       </span>│<span style=\"color: #c0c0c0; text-decoration-color: #c0c0c0\"> core principles. This </span>│\n",
       "│<span style=\"color: #ff00ff; text-decoration-color: #ff00ff; font-weight: bold\">                  </span>│<span style=\"color: #00ffff; text-decoration-color: #00ffff; font-weight: bold\">                       </span>│<span style=\"color: #00ff00; text-decoration-color: #00ff00\">                      </span>│<span style=\"color: #808000; text-decoration-color: #808000\">                       </span>│<span style=\"color: #c0c0c0; text-decoration-color: #c0c0c0\"> is then converted     </span>│\n",
       "│<span style=\"color: #ff00ff; text-decoration-color: #ff00ff; font-weight: bold\">                  </span>│<span style=\"color: #00ffff; text-decoration-color: #00ffff; font-weight: bold\">                       </span>│<span style=\"color: #00ff00; text-decoration-color: #00ff00\">                      </span>│<span style=\"color: #808000; text-decoration-color: #808000\">                       </span>│<span style=\"color: #c0c0c0; text-decoration-color: #c0c0c0\"> into Question-Answer  </span>│\n",
       "│<span style=\"color: #ff00ff; text-decoration-color: #ff00ff; font-weight: bold\">                  </span>│<span style=\"color: #00ffff; text-decoration-color: #00ffff; font-weight: bold\">                       </span>│<span style=\"color: #00ff00; text-decoration-color: #00ff00\">                      </span>│<span style=\"color: #808000; text-decoration-color: #808000\">                       </span>│<span style=\"color: #c0c0c0; text-decoration-color: #c0c0c0\"> pairs.                </span>│\n",
       "│<span style=\"color: #ff00ff; text-decoration-color: #ff00ff; font-weight: bold\"> small-rock-799   </span>│<span style=\"color: #00ffff; text-decoration-color: #00ffff; font-weight: bold\"> Advanced Document     </span>│<span style=\"color: #00ff00; text-decoration-color: #00ff00\"> SDG Hub Contributors </span>│<span style=\"color: #808000; text-decoration-color: #808000\"> question-generation,  </span>│<span style=\"color: #c0c0c0; text-decoration-color: #c0c0c0\"> A comprehensive flow  </span>│\n",
       "│<span style=\"color: #ff00ff; text-decoration-color: #ff00ff; font-weight: bold\">                  </span>│<span style=\"color: #00ffff; text-decoration-color: #00ffff; font-weight: bold\"> Grounded              </span>│<span style=\"color: #00ff00; text-decoration-color: #00ff00\">                      </span>│<span style=\"color: #808000; text-decoration-color: #808000\"> knowledge-extraction, </span>│<span style=\"color: #c0c0c0; text-decoration-color: #c0c0c0\"> that generates        </span>│\n",
       "│<span style=\"color: #ff00ff; text-decoration-color: #ff00ff; font-weight: bold\">                  </span>│<span style=\"color: #00ffff; text-decoration-color: #00ffff; font-weight: bold\"> Question-Answer       </span>│<span style=\"color: #00ff00; text-decoration-color: #00ff00\">                      </span>│<span style=\"color: #808000; text-decoration-color: #808000\"> qa-pairs,             </span>│<span style=\"color: #c0c0c0; text-decoration-color: #c0c0c0\"> high-quality          </span>│\n",
       "│<span style=\"color: #ff00ff; text-decoration-color: #ff00ff; font-weight: bold\">                  </span>│<span style=\"color: #00ffff; text-decoration-color: #00ffff; font-weight: bold\"> Generation Flow for   </span>│<span style=\"color: #00ff00; text-decoration-color: #00ff00\">                      </span>│<span style=\"color: #808000; text-decoration-color: #808000\"> document-processing,  </span>│<span style=\"color: #c0c0c0; text-decoration-color: #c0c0c0\"> question-answer pairs </span>│\n",
       "│<span style=\"color: #ff00ff; text-decoration-color: #ff00ff; font-weight: bold\">                  </span>│<span style=\"color: #00ffff; text-decoration-color: #00ffff; font-weight: bold\"> Knowledge Tuning      </span>│<span style=\"color: #00ff00; text-decoration-color: #00ff00\">                      </span>│<span style=\"color: #808000; text-decoration-color: #808000\"> educational           </span>│<span style=\"color: #c0c0c0; text-decoration-color: #c0c0c0\"> from input documents  </span>│\n",
       "│<span style=\"color: #ff00ff; text-decoration-color: #ff00ff; font-weight: bold\">                  </span>│<span style=\"color: #00ffff; text-decoration-color: #00ffff; font-weight: bold\">                       </span>│<span style=\"color: #00ff00; text-decoration-color: #00ff00\">                      </span>│<span style=\"color: #808000; text-decoration-color: #808000\">                       </span>│<span style=\"color: #c0c0c0; text-decoration-color: #c0c0c0\"> using multiple LLM    </span>│\n",
       "│<span style=\"color: #ff00ff; text-decoration-color: #ff00ff; font-weight: bold\">                  </span>│<span style=\"color: #00ffff; text-decoration-color: #00ffff; font-weight: bold\">                       </span>│<span style=\"color: #00ff00; text-decoration-color: #00ff00\">                      </span>│<span style=\"color: #808000; text-decoration-color: #808000\">                       </span>│<span style=\"color: #c0c0c0; text-decoration-color: #c0c0c0\"> blocks for question   </span>│\n",
       "│<span style=\"color: #ff00ff; text-decoration-color: #ff00ff; font-weight: bold\">                  </span>│<span style=\"color: #00ffff; text-decoration-color: #00ffff; font-weight: bold\">                       </span>│<span style=\"color: #00ff00; text-decoration-color: #00ff00\">                      </span>│<span style=\"color: #808000; text-decoration-color: #808000\">                       </span>│<span style=\"color: #c0c0c0; text-decoration-color: #c0c0c0\"> generation, answer    </span>│\n",
       "│<span style=\"color: #ff00ff; text-decoration-color: #ff00ff; font-weight: bold\">                  </span>│<span style=\"color: #00ffff; text-decoration-color: #00ffff; font-weight: bold\">                       </span>│<span style=\"color: #00ff00; text-decoration-color: #00ff00\">                      </span>│<span style=\"color: #808000; text-decoration-color: #808000\">                       </span>│<span style=\"color: #c0c0c0; text-decoration-color: #c0c0c0\"> synthesis, and        </span>│\n",
       "│<span style=\"color: #ff00ff; text-decoration-color: #ff00ff; font-weight: bold\">                  </span>│<span style=\"color: #00ffff; text-decoration-color: #00ffff; font-weight: bold\">                       </span>│<span style=\"color: #00ff00; text-decoration-color: #00ff00\">                      </span>│<span style=\"color: #808000; text-decoration-color: #808000\">                       </span>│<span style=\"color: #c0c0c0; text-decoration-color: #c0c0c0\"> quality evaluation.   </span>│\n",
       "└──────────────────┴───────────────────────┴──────────────────────┴───────────────────────┴───────────────────────┘\n",
       "</pre>\n"
      ],
      "text/plain": [
       "┏━━━━━━━━━━━━━━━━━━┳━━━━━━━━━━━━━━━━━━━━━━━┳━━━━━━━━━━━━━━━━━━━━━━┳━━━━━━━━━━━━━━━━━━━━━━━┳━━━━━━━━━━━━━━━━━━━━━━━┓\n",
       "┃\u001b[1;95m \u001b[0m\u001b[1;95mID              \u001b[0m\u001b[1;95m \u001b[0m┃\u001b[1;95m \u001b[0m\u001b[1;95mName                 \u001b[0m\u001b[1;95m \u001b[0m┃\u001b[1;95m \u001b[0m\u001b[1;95mAuthor              \u001b[0m\u001b[1;95m \u001b[0m┃\u001b[1;95m \u001b[0m\u001b[1;95mTags                 \u001b[0m\u001b[1;95m \u001b[0m┃\u001b[1;95m \u001b[0m\u001b[1;95mDescription          \u001b[0m\u001b[1;95m \u001b[0m┃\n",
       "┡━━━━━━━━━━━━━━━━━━╇━━━━━━━━━━━━━━━━━━━━━━━╇━━━━━━━━━━━━━━━━━━━━━━╇━━━━━━━━━━━━━━━━━━━━━━━╇━━━━━━━━━━━━━━━━━━━━━━━┩\n",
       "│\u001b[1;95m \u001b[0m\u001b[1;95mepic-jade-656   \u001b[0m\u001b[1;95m \u001b[0m│\u001b[1;96m \u001b[0m\u001b[1;96mExtractive Summary   \u001b[0m\u001b[1;96m \u001b[0m│\u001b[92m \u001b[0m\u001b[92mSDG Hub Contributors\u001b[0m\u001b[92m \u001b[0m│\u001b[33m \u001b[0m\u001b[33mknowledge-tuning,    \u001b[0m\u001b[33m \u001b[0m│\u001b[37m \u001b[0m\u001b[37mGenerate extractive  \u001b[0m\u001b[37m \u001b[0m│\n",
       "│\u001b[1;95m                  \u001b[0m│\u001b[1;96m \u001b[0m\u001b[1;96mKnowledge Tuning     \u001b[0m\u001b[1;96m \u001b[0m│\u001b[92m                      \u001b[0m│\u001b[33m \u001b[0m\u001b[33mdocument-internaliza…\u001b[0m\u001b[33m \u001b[0m│\u001b[37m \u001b[0m\u001b[37msummary from the     \u001b[0m\u001b[37m \u001b[0m│\n",
       "│\u001b[1;95m                  \u001b[0m│\u001b[1;96m \u001b[0m\u001b[1;96mDataset Generation   \u001b[0m\u001b[1;96m \u001b[0m│\u001b[92m                      \u001b[0m│\u001b[33m \u001b[0m\u001b[33mquestion-generation, \u001b[0m\u001b[33m \u001b[0m│\u001b[37m \u001b[0m\u001b[37minput document. Each \u001b[0m\u001b[37m \u001b[0m│\n",
       "│\u001b[1;95m                  \u001b[0m│\u001b[1;96m \u001b[0m\u001b[1;96mFlow                 \u001b[0m\u001b[1;96m \u001b[0m│\u001b[92m                      \u001b[0m│\u001b[33m \u001b[0m\u001b[33mknowledge-extractive…\u001b[0m\u001b[33m \u001b[0m│\u001b[37m \u001b[0m\u001b[37mdocument is first    \u001b[0m\u001b[37m \u001b[0m│\n",
       "│\u001b[1;95m                  \u001b[0m│\u001b[1;96m                       \u001b[0m│\u001b[92m                      \u001b[0m│\u001b[33m \u001b[0m\u001b[33mqa-pairs,            \u001b[0m\u001b[33m \u001b[0m│\u001b[37m \u001b[0m\u001b[37mconverted into list  \u001b[0m\u001b[37m \u001b[0m│\n",
       "│\u001b[1;95m                  \u001b[0m│\u001b[1;96m                       \u001b[0m│\u001b[92m                      \u001b[0m│\u001b[33m \u001b[0m\u001b[33mextractive-summaries \u001b[0m\u001b[33m \u001b[0m│\u001b[37m \u001b[0m\u001b[37mof knowledge segments\u001b[0m\u001b[37m \u001b[0m│\n",
       "│\u001b[1;95m                  \u001b[0m│\u001b[1;96m                       \u001b[0m│\u001b[92m                      \u001b[0m│\u001b[33m                       \u001b[0m│\u001b[37m \u001b[0m\u001b[37mfor creating         \u001b[0m\u001b[37m \u001b[0m│\n",
       "│\u001b[1;95m                  \u001b[0m│\u001b[1;96m                       \u001b[0m│\u001b[92m                      \u001b[0m│\u001b[33m                       \u001b[0m│\u001b[37m \u001b[0m\u001b[37mextractive summary   \u001b[0m\u001b[37m \u001b[0m│\n",
       "│\u001b[1;95m                  \u001b[0m│\u001b[1;96m                       \u001b[0m│\u001b[92m                      \u001b[0m│\u001b[33m                       \u001b[0m│\u001b[37m \u001b[0m\u001b[37mand then annotated   \u001b[0m\u001b[37m \u001b[0m│\n",
       "│\u001b[1;95m                  \u001b[0m│\u001b[1;96m                       \u001b[0m│\u001b[92m                      \u001b[0m│\u001b[33m                       \u001b[0m│\u001b[37m \u001b[0m\u001b[37mwith context,        \u001b[0m\u001b[37m \u001b[0m│\n",
       "│\u001b[1;95m                  \u001b[0m│\u001b[1;96m                       \u001b[0m│\u001b[92m                      \u001b[0m│\u001b[33m                       \u001b[0m│\u001b[37m \u001b[0m\u001b[37mrelationship and     \u001b[0m\u001b[37m \u001b[0m│\n",
       "│\u001b[1;95m                  \u001b[0m│\u001b[1;96m                       \u001b[0m│\u001b[92m                      \u001b[0m│\u001b[33m                       \u001b[0m│\u001b[37m \u001b[0m\u001b[37mrelevance. This is   \u001b[0m\u001b[37m \u001b[0m│\n",
       "│\u001b[1;95m                  \u001b[0m│\u001b[1;96m                       \u001b[0m│\u001b[92m                      \u001b[0m│\u001b[33m                       \u001b[0m│\u001b[37m \u001b[0m\u001b[37mthen converted into  \u001b[0m\u001b[37m \u001b[0m│\n",
       "│\u001b[1;95m                  \u001b[0m│\u001b[1;96m                       \u001b[0m│\u001b[92m                      \u001b[0m│\u001b[33m                       \u001b[0m│\u001b[37m \u001b[0m\u001b[37mQuestion-Answer      \u001b[0m\u001b[37m \u001b[0m│\n",
       "│\u001b[1;95m                  \u001b[0m│\u001b[1;96m                       \u001b[0m│\u001b[92m                      \u001b[0m│\u001b[33m                       \u001b[0m│\u001b[37m \u001b[0m\u001b[37mpairs.               \u001b[0m\u001b[37m \u001b[0m│\n",
       "│\u001b[1;95m \u001b[0m\u001b[1;95mgreen-clay-812  \u001b[0m\u001b[1;95m \u001b[0m│\u001b[1;96m \u001b[0m\u001b[1;96mStructured Text      \u001b[0m\u001b[1;96m \u001b[0m│\u001b[92m \u001b[0m\u001b[92mSDG Hub Contributors\u001b[0m\u001b[92m \u001b[0m│\u001b[33m \u001b[0m\u001b[33mtext-analysis,       \u001b[0m\u001b[33m \u001b[0m│\u001b[37m \u001b[0m\u001b[37mMulti-step pipeline  \u001b[0m\u001b[37m \u001b[0m│\n",
       "│\u001b[1;95m                  \u001b[0m│\u001b[1;96m \u001b[0m\u001b[1;96mInsights Extraction  \u001b[0m\u001b[1;96m \u001b[0m│\u001b[92m                      \u001b[0m│\u001b[33m \u001b[0m\u001b[33msummarization, nlp,  \u001b[0m\u001b[33m \u001b[0m│\u001b[37m \u001b[0m\u001b[37mfor extracting       \u001b[0m\u001b[37m \u001b[0m│\n",
       "│\u001b[1;95m                  \u001b[0m│\u001b[1;96m \u001b[0m\u001b[1;96mFlow                 \u001b[0m\u001b[1;96m \u001b[0m│\u001b[92m                      \u001b[0m│\u001b[33m \u001b[0m\u001b[33mstructured-output,   \u001b[0m\u001b[33m \u001b[0m│\u001b[37m \u001b[0m\u001b[37mstructured insights  \u001b[0m\u001b[37m \u001b[0m│\n",
       "│\u001b[1;95m                  \u001b[0m│\u001b[1;96m                       \u001b[0m│\u001b[92m                      \u001b[0m│\u001b[33m \u001b[0m\u001b[33minsights,            \u001b[0m\u001b[33m \u001b[0m│\u001b[37m \u001b[0m\u001b[37mfrom text including  \u001b[0m\u001b[37m \u001b[0m│\n",
       "│\u001b[1;95m                  \u001b[0m│\u001b[1;96m                       \u001b[0m│\u001b[92m                      \u001b[0m│\u001b[33m \u001b[0m\u001b[33msentiment-analysis,  \u001b[0m\u001b[33m \u001b[0m│\u001b[37m \u001b[0m\u001b[37msummary, keywords,   \u001b[0m\u001b[37m \u001b[0m│\n",
       "│\u001b[1;95m                  \u001b[0m│\u001b[1;96m                       \u001b[0m│\u001b[92m                      \u001b[0m│\u001b[33m \u001b[0m\u001b[33mentity-extraction,   \u001b[0m\u001b[33m \u001b[0m│\u001b[37m \u001b[0m\u001b[37mentities, and        \u001b[0m\u001b[37m \u001b[0m│\n",
       "│\u001b[1;95m                  \u001b[0m│\u001b[1;96m                       \u001b[0m│\u001b[92m                      \u001b[0m│\u001b[33m \u001b[0m\u001b[33mkeyword-extraction   \u001b[0m\u001b[33m \u001b[0m│\u001b[37m \u001b[0m\u001b[37msentiment analysis   \u001b[0m\u001b[37m \u001b[0m│\n",
       "│\u001b[1;95m                  \u001b[0m│\u001b[1;96m                       \u001b[0m│\u001b[92m                      \u001b[0m│\u001b[33m                       \u001b[0m│\u001b[37m \u001b[0m\u001b[37mcombined into a JSON \u001b[0m\u001b[37m \u001b[0m│\n",
       "│\u001b[1;95m                  \u001b[0m│\u001b[1;96m                       \u001b[0m│\u001b[92m                      \u001b[0m│\u001b[33m                       \u001b[0m│\u001b[37m \u001b[0m\u001b[37moutput               \u001b[0m\u001b[37m \u001b[0m│\n",
       "│\u001b[1;95m \u001b[0m\u001b[1;95mheavy-heart-77  \u001b[0m\u001b[1;95m \u001b[0m│\u001b[1;96m \u001b[0m\u001b[1;96mKey Facts Knowledge  \u001b[0m\u001b[1;96m \u001b[0m│\u001b[92m \u001b[0m\u001b[92mSDG Hub Contributors\u001b[0m\u001b[92m \u001b[0m│\u001b[33m \u001b[0m\u001b[33mknowledge-tuning,    \u001b[0m\u001b[33m \u001b[0m│\u001b[37m \u001b[0m\u001b[37mGenerating list of   \u001b[0m\u001b[37m \u001b[0m│\n",
       "│\u001b[1;95m                  \u001b[0m│\u001b[1;96m \u001b[0m\u001b[1;96mTuning Dataset       \u001b[0m\u001b[1;96m \u001b[0m│\u001b[92m                      \u001b[0m│\u001b[33m \u001b[0m\u001b[33mdocument-internaliza…\u001b[0m\u001b[33m \u001b[0m│\u001b[37m \u001b[0m\u001b[37matomic facts from a  \u001b[0m\u001b[37m \u001b[0m│\n",
       "│\u001b[1;95m                  \u001b[0m│\u001b[1;96m \u001b[0m\u001b[1;96mGeneration Flow      \u001b[0m\u001b[1;96m \u001b[0m│\u001b[92m                      \u001b[0m│\u001b[33m \u001b[0m\u001b[33mquestion-generation, \u001b[0m\u001b[33m \u001b[0m│\u001b[37m \u001b[0m\u001b[37mdocument and         \u001b[0m\u001b[37m \u001b[0m│\n",
       "│\u001b[1;95m                  \u001b[0m│\u001b[1;96m                       \u001b[0m│\u001b[92m                      \u001b[0m│\u001b[33m \u001b[0m\u001b[33mqa-pairs, key-facts  \u001b[0m\u001b[33m \u001b[0m│\u001b[37m \u001b[0m\u001b[37mconverting each      \u001b[0m\u001b[37m \u001b[0m│\n",
       "│\u001b[1;95m                  \u001b[0m│\u001b[1;96m                       \u001b[0m│\u001b[92m                      \u001b[0m│\u001b[33m                       \u001b[0m│\u001b[37m \u001b[0m\u001b[37matomic fact into a QA\u001b[0m\u001b[37m \u001b[0m│\n",
       "│\u001b[1;95m                  \u001b[0m│\u001b[1;96m                       \u001b[0m│\u001b[92m                      \u001b[0m│\u001b[33m                       \u001b[0m│\u001b[37m \u001b[0m\u001b[37mpair. This flow will \u001b[0m\u001b[37m \u001b[0m│\n",
       "│\u001b[1;95m                  \u001b[0m│\u001b[1;96m                       \u001b[0m│\u001b[92m                      \u001b[0m│\u001b[33m                       \u001b[0m│\u001b[37m \u001b[0m\u001b[37mgenerate 5 QA pairs  \u001b[0m\u001b[37m \u001b[0m│\n",
       "│\u001b[1;95m                  \u001b[0m│\u001b[1;96m                       \u001b[0m│\u001b[92m                      \u001b[0m│\u001b[33m                       \u001b[0m│\u001b[37m \u001b[0m\u001b[37mfor each atomic fact.\u001b[0m\u001b[37m \u001b[0m│\n",
       "│\u001b[1;95m \u001b[0m\u001b[1;95mmild-thunder-748\u001b[0m\u001b[1;95m \u001b[0m│\u001b[1;96m \u001b[0m\u001b[1;96mDetailed Summary     \u001b[0m\u001b[1;96m \u001b[0m│\u001b[92m \u001b[0m\u001b[92mSDG Hub Contributors\u001b[0m\u001b[92m \u001b[0m│\u001b[33m \u001b[0m\u001b[33mknowledge-tuning,    \u001b[0m\u001b[33m \u001b[0m│\u001b[37m \u001b[0m\u001b[37mGenerates high level \u001b[0m\u001b[37m \u001b[0m│\n",
       "│\u001b[1;95m                  \u001b[0m│\u001b[1;96m \u001b[0m\u001b[1;96mKnowledge Tuning     \u001b[0m\u001b[1;96m \u001b[0m│\u001b[92m                      \u001b[0m│\u001b[33m \u001b[0m\u001b[33mdocument-internaliza…\u001b[0m\u001b[33m \u001b[0m│\u001b[37m \u001b[0m\u001b[37msummaries of the     \u001b[0m\u001b[37m \u001b[0m│\n",
       "│\u001b[1;95m                  \u001b[0m│\u001b[1;96m \u001b[0m\u001b[1;96mDataset Generation   \u001b[0m\u001b[1;96m \u001b[0m│\u001b[92m                      \u001b[0m│\u001b[33m \u001b[0m\u001b[33mquestion-generation, \u001b[0m\u001b[33m \u001b[0m│\u001b[37m \u001b[0m\u001b[37mdocument focusing on \u001b[0m\u001b[37m \u001b[0m│\n",
       "│\u001b[1;95m                  \u001b[0m│\u001b[1;96m \u001b[0m\u001b[1;96mFlow                 \u001b[0m\u001b[1;96m \u001b[0m│\u001b[92m                      \u001b[0m│\u001b[33m \u001b[0m\u001b[33mqa-pairs,            \u001b[0m\u001b[33m \u001b[0m│\u001b[37m \u001b[0m\u001b[37moverarching themes,  \u001b[0m\u001b[37m \u001b[0m│\n",
       "│\u001b[1;95m                  \u001b[0m│\u001b[1;96m                       \u001b[0m│\u001b[92m                      \u001b[0m│\u001b[33m \u001b[0m\u001b[33mdetailed-summaries   \u001b[0m\u001b[33m \u001b[0m│\u001b[37m \u001b[0m\u001b[37mmain arguments, and  \u001b[0m\u001b[37m \u001b[0m│\n",
       "│\u001b[1;95m                  \u001b[0m│\u001b[1;96m                       \u001b[0m│\u001b[92m                      \u001b[0m│\u001b[33m                       \u001b[0m│\u001b[37m \u001b[0m\u001b[37mcore principles. This\u001b[0m\u001b[37m \u001b[0m│\n",
       "│\u001b[1;95m                  \u001b[0m│\u001b[1;96m                       \u001b[0m│\u001b[92m                      \u001b[0m│\u001b[33m                       \u001b[0m│\u001b[37m \u001b[0m\u001b[37mis then converted    \u001b[0m\u001b[37m \u001b[0m│\n",
       "│\u001b[1;95m                  \u001b[0m│\u001b[1;96m                       \u001b[0m│\u001b[92m                      \u001b[0m│\u001b[33m                       \u001b[0m│\u001b[37m \u001b[0m\u001b[37minto Question-Answer \u001b[0m\u001b[37m \u001b[0m│\n",
       "│\u001b[1;95m                  \u001b[0m│\u001b[1;96m                       \u001b[0m│\u001b[92m                      \u001b[0m│\u001b[33m                       \u001b[0m│\u001b[37m \u001b[0m\u001b[37mpairs.               \u001b[0m\u001b[37m \u001b[0m│\n",
       "│\u001b[1;95m \u001b[0m\u001b[1;95msmall-rock-799  \u001b[0m\u001b[1;95m \u001b[0m│\u001b[1;96m \u001b[0m\u001b[1;96mAdvanced Document    \u001b[0m\u001b[1;96m \u001b[0m│\u001b[92m \u001b[0m\u001b[92mSDG Hub Contributors\u001b[0m\u001b[92m \u001b[0m│\u001b[33m \u001b[0m\u001b[33mquestion-generation, \u001b[0m\u001b[33m \u001b[0m│\u001b[37m \u001b[0m\u001b[37mA comprehensive flow \u001b[0m\u001b[37m \u001b[0m│\n",
       "│\u001b[1;95m                  \u001b[0m│\u001b[1;96m \u001b[0m\u001b[1;96mGrounded             \u001b[0m\u001b[1;96m \u001b[0m│\u001b[92m                      \u001b[0m│\u001b[33m \u001b[0m\u001b[33mknowledge-extraction,\u001b[0m\u001b[33m \u001b[0m│\u001b[37m \u001b[0m\u001b[37mthat generates       \u001b[0m\u001b[37m \u001b[0m│\n",
       "│\u001b[1;95m                  \u001b[0m│\u001b[1;96m \u001b[0m\u001b[1;96mQuestion-Answer      \u001b[0m\u001b[1;96m \u001b[0m│\u001b[92m                      \u001b[0m│\u001b[33m \u001b[0m\u001b[33mqa-pairs,            \u001b[0m\u001b[33m \u001b[0m│\u001b[37m \u001b[0m\u001b[37mhigh-quality         \u001b[0m\u001b[37m \u001b[0m│\n",
       "│\u001b[1;95m                  \u001b[0m│\u001b[1;96m \u001b[0m\u001b[1;96mGeneration Flow for  \u001b[0m\u001b[1;96m \u001b[0m│\u001b[92m                      \u001b[0m│\u001b[33m \u001b[0m\u001b[33mdocument-processing, \u001b[0m\u001b[33m \u001b[0m│\u001b[37m \u001b[0m\u001b[37mquestion-answer pairs\u001b[0m\u001b[37m \u001b[0m│\n",
       "│\u001b[1;95m                  \u001b[0m│\u001b[1;96m \u001b[0m\u001b[1;96mKnowledge Tuning     \u001b[0m\u001b[1;96m \u001b[0m│\u001b[92m                      \u001b[0m│\u001b[33m \u001b[0m\u001b[33meducational          \u001b[0m\u001b[33m \u001b[0m│\u001b[37m \u001b[0m\u001b[37mfrom input documents \u001b[0m\u001b[37m \u001b[0m│\n",
       "│\u001b[1;95m                  \u001b[0m│\u001b[1;96m                       \u001b[0m│\u001b[92m                      \u001b[0m│\u001b[33m                       \u001b[0m│\u001b[37m \u001b[0m\u001b[37musing multiple LLM   \u001b[0m\u001b[37m \u001b[0m│\n",
       "│\u001b[1;95m                  \u001b[0m│\u001b[1;96m                       \u001b[0m│\u001b[92m                      \u001b[0m│\u001b[33m                       \u001b[0m│\u001b[37m \u001b[0m\u001b[37mblocks for question  \u001b[0m\u001b[37m \u001b[0m│\n",
       "│\u001b[1;95m                  \u001b[0m│\u001b[1;96m                       \u001b[0m│\u001b[92m                      \u001b[0m│\u001b[33m                       \u001b[0m│\u001b[37m \u001b[0m\u001b[37mgeneration, answer   \u001b[0m\u001b[37m \u001b[0m│\n",
       "│\u001b[1;95m                  \u001b[0m│\u001b[1;96m                       \u001b[0m│\u001b[92m                      \u001b[0m│\u001b[33m                       \u001b[0m│\u001b[37m \u001b[0m\u001b[37msynthesis, and       \u001b[0m\u001b[37m \u001b[0m│\n",
       "│\u001b[1;95m                  \u001b[0m│\u001b[1;96m                       \u001b[0m│\u001b[92m                      \u001b[0m│\u001b[33m                       \u001b[0m│\u001b[37m \u001b[0m\u001b[37mquality evaluation.  \u001b[0m\u001b[37m \u001b[0m│\n",
       "└──────────────────┴───────────────────────┴──────────────────────┴───────────────────────┴───────────────────────┘\n"
      ]
     },
     "metadata": {},
     "output_type": "display_data"
    },
    {
     "name": "stdout",
     "output_type": "stream",
     "text": [
      "Available flows: [{'id': 'mild-thunder-748', 'name': 'Detailed Summary Knowledge Tuning Dataset Generation Flow'}, {'id': 'heavy-heart-77', 'name': 'Key Facts Knowledge Tuning Dataset Generation Flow'}, {'id': 'epic-jade-656', 'name': 'Extractive Summary Knowledge Tuning Dataset Generation Flow'}, {'id': 'small-rock-799', 'name': 'Advanced Document Grounded Question-Answer Generation Flow for Knowledge Tuning'}, {'id': 'green-clay-812', 'name': 'Structured Text Insights Extraction Flow'}]\n",
      "QA flows: [{'id': 'mild-thunder-748', 'name': 'Detailed Summary Knowledge Tuning Dataset Generation Flow'}, {'id': 'heavy-heart-77', 'name': 'Key Facts Knowledge Tuning Dataset Generation Flow'}, {'id': 'epic-jade-656', 'name': 'Extractive Summary Knowledge Tuning Dataset Generation Flow'}, {'id': 'small-rock-799', 'name': 'Advanced Document Grounded Question-Answer Generation Flow for Knowledge Tuning'}]\n"
     ]
    }
   ],
   "source": [
    "# Auto-discover all available flows (no setup needed!)\n",
    "FlowRegistry.discover_flows()\n",
    "\n",
    "# List available flows\n",
    "flows = FlowRegistry.list_flows()\n",
    "print(f\"Available flows: {flows}\")\n",
    "\n",
    "# You can also search the flows by tag\n",
    "qa_flows = FlowRegistry.search_flows(tag=\"question-generation\")\n",
    "print(f\"QA flows: {qa_flows}\")"
   ]
  },
  {
   "cell_type": "code",
   "execution_count": 8,
   "metadata": {},
   "outputs": [],
   "source": [
    "# We will use below mapping of flow names to their respective summarization flows\n",
    "flow_name_map = {\n",
    "        'Detailed Summary Knowledge Tuning Dataset Generation Flow': 'gen_detailed_summary',\n",
    "        'Key Facts Knowledge Tuning Dataset Generation Flow': 'gen_atomic_facts',\n",
    "        'Extractive Summary Knowledge Tuning Dataset Generation Flow': 'gen_extractive_summary',\n",
    "    }"
   ]
  },
  {
   "cell_type": "code",
   "execution_count": null,
   "metadata": {},
   "outputs": [],
   "source": [
    "# Get runtime parameters\n",
    "enable_reasoning = os.getenv('ENABLE_REASONING', 'false').lower() in ('1', 'true', 'yes')\n",
    "number_of_summaries = int(os.getenv('NUMBER_OF_SUMMARIES', '50'))"
   ]
  },
  {
   "cell_type": "code",
   "execution_count": null,
   "metadata": {},
   "outputs": [],
   "source": [
    "# Generate data for extractive summary\n",
    "flow_name = \"Extractive Summary Knowledge Tuning Dataset Generation Flow\"\n",
    "flow_path = FlowRegistry.get_flow_path(flow_name)\n",
    "flow = Flow.from_yaml(flow_path)\n",
    "\n",
    "# Set model configuration\n",
    "flow = set_model_config(flow)\n",
    "number_of_summaries = int(os.getenv('NUMBER_OF_SUMMARIES', '50'))\n",
    "# Generate data for extractive summary\n",
    "runtime_params = {\n",
    "    flow_name_map[flow_name]: {\n",
    "        'n': number_of_summaries\n",
    "    },\n",
    "}\n",
    "if enable_reasoning:\n",
    "    # Increase max tokens to accommodate reasoning content\n",
    "    runtime_params.update({'question_generation': {'max_tokens': 1024}, 'gen_extractive_summary': {'max_tokens': 6000}})\n",
    "    \n",
    "\n",
    "extractive_summary_generated_data = flow.generate(quality_corpus, runtime_params=runtime_params, max_concurrency=2)\n",
    "save_data_path = os.getenv('OUTPUT_DATA_FOLDER', '')\n",
    "extractive_summary_generated_data.to_json(os.path.join(save_data_path, 'extractive_summary', 'gen.jsonl'), orient='records', lines=True)\n",
    "\n",
    "print(f\"✓ Extractive summary: {len(extractive_summary_generated_data)} records\")\n",
    "\n",
    "print(f\"✓ Columns: {list(extractive_summary_generated_data.column_names)}\")"
   ]
  },
  {
   "cell_type": "code",
   "execution_count": null,
   "metadata": {},
   "outputs": [],
   "source": [
    "# Generate similar data for Detailed Summary\n",
    "flow_name = \"Detailed Summary Knowledge Tuning Dataset Generation Flow\"\n",
    "flow_path = FlowRegistry.get_flow_path(flow_name)\n",
    "flow = Flow.from_yaml(flow_path)\n",
    "\n",
    "# Set model configuration\n",
    "flow = set_model_config(flow)\n",
    "\n",
    "runtime_params.update({ flow_name_map[flow_name]: {\n",
    "        'n': number_of_summaries\n",
    "    }})\n",
    "if enable_reasoning:\n",
    "    # Increase max tokens to accommodate reasoning content\n",
    "    runtime_params.update({'question_generation': {'max_tokens': 1024}, 'gen_detailed_summary': {'max_tokens': 6000}})\n",
    "# Generate data for detailed summary\n",
    "detailed_summary_generated_data = flow.generate(quality_corpus, runtime_params=runtime_params, max_concurrency=50)\n",
    "save_data_path = os.getenv('OUTPUT_DATA_FOLDER', '')\n",
    "detailed_summary_generated_data.to_json(os.path.join(save_data_path, 'detailed_summary', 'gen.jsonl'), orient='records', lines=True)\n",
    "\n",
    "print(f\"✓ Detailed summary: {len(detailed_summary_generated_data)} records\")\n",
    "\n",
    "print(f\"✓ Columns: {list(detailed_summary_generated_data.column_names)}\")"
   ]
  },
  {
   "cell_type": "code",
   "execution_count": null,
   "metadata": {},
   "outputs": [],
   "source": [
    "# Generate similar data for key facts \n",
    "flow_name = \"Key Facts Knowledge Tuning Dataset Generation Flow\"\n",
    "flow_path = FlowRegistry.get_flow_path(flow_name)\n",
    "flow = Flow.from_yaml(flow_path)\n",
    "\n",
    "# Set model configuration\n",
    "flow = set_model_config(flow)\n",
    "\n",
    "runtime_params.update({ flow_name_map[flow_name]: {\n",
    "        'n': 2\n",
    "    }})\n",
    "\n",
    "\n",
    "# Generate data for key facts summary\n",
    "key_facts_generated_data = flow.generate(quality_corpus, runtime_params=runtime_params, max_concurrency=50)\n",
    "save_data_path = os.getenv('OUTPUT_DATA_FOLDER', '')\n",
    "key_facts_generated_data.to_json(os.path.join(save_data_path, 'key_facts_to_qa', 'gen.jsonl'), orient='records', lines=True)\n",
    "\n",
    "print(f\"✓ Key facts: {len(key_facts_generated_data)} records\")\n",
    "\n",
    "print(f\"✓ Columns: {list(key_facts_generated_data.column_names)}\")"
   ]
  },
  {
   "cell_type": "markdown",
   "metadata": {},
   "source": [
    "🎉 You now have all three types of document augmentations (detailed summaries, extractive summaries, and key facts) along with their corresponding QA pairs.\n",
    "\n",
    "✅ Next steps:\n",
    "   - Combine and curate these datasets to prepare your final training data.\n",
    "   - For detailed guidance on post-processing, mixing, and formatting the data for model training (including conversion to messages format), please refer to [knowledge_mixing.ipynb](knowledge_mixing.ipynb)."
   ]
  }
 ],
 "metadata": {
  "kernelspec": {
   "display_name": ".venv",
   "language": "python",
   "name": "python3"
  },
  "language_info": {
   "codemirror_mode": {
    "name": "ipython",
    "version": 3
   },
   "file_extension": ".py",
   "mimetype": "text/x-python",
   "name": "python",
   "nbconvert_exporter": "python",
   "pygments_lexer": "ipython3",
   "version": "3.13.3"
  }
 },
 "nbformat": 4,
 "nbformat_minor": 2
}
