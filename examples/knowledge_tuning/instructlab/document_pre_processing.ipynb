{
 "cells": [
  {
   "cell_type": "markdown",
   "metadata": {},
   "source": [
    "# Preparing Document for Data generation\n",
    "- This notebook will show you how to do document parsing\n",
    "- Document Chunking\n",
    "- And finally mixing it with user QNA to  create seed examples"
   ]
  },
  {
   "cell_type": "markdown",
   "metadata": {},
   "source": [
    "### Install SDG\n",
    "\n",
    "```bash \n",
    "pip install sdg-hub[examples]\n",
    "```"
   ]
  },
  {
   "cell_type": "markdown",
   "metadata": {},
   "source": [
    "### Using docling v1\n",
    "\n",
    "```python\n",
    "data_dir = 'document_collection/ibm-annual-report'\n",
    "!OMP_NUM_THREADS=32 mamba run -n docling python ../scripts/docparser.py --input-dir {data_dir} --output-dir {data_dir}\n",
    "```"
   ]
  },
  {
   "cell_type": "markdown",
   "metadata": {},
   "source": [
    "### Using docling v2"
   ]
  },
  {
   "cell_type": "code",
   "execution_count": null,
   "metadata": {},
   "outputs": [],
   "source": [
    "data_dir = 'document_collection/ibm-annual-report'\n",
    "# !OMP_NUM_THREADS=32 mamba run -n docling python ../scripts/docparser_v2.py --input-dir {data_dir} --output-dir {data_dir} --c docling_v2_config.yaml\n",
    "!python docparser_v2.py --input-dir {data_dir} --output-dir {data_dir} -c docling_v2_config.yaml"
   ]
  },
  {
   "cell_type": "markdown",
   "metadata": {},
   "source": [
    "### Create Seed Examples"
   ]
  },
  {
   "cell_type": "code",
   "execution_count": null,
   "metadata": {},
   "outputs": [],
   "source": [
    "import sys\n",
    "import os\n",
    "sys.path.insert(0, os.path.dirname(os.path.join(os.getcwd())))\n",
    "from knowledge_utils import DocProcessor\n",
    "\n",
    "output_dir = f\"sdg_demo_output/\"\n",
    "# This is where your PDFs are stored\n",
    "# data_dir = '../document_collection/ibm-annual-report' \n",
    "# It also have your QNA yaml file\n",
    "dp = DocProcessor(data_dir, user_config_path=f'{data_dir}/qna.yaml')\n",
    "\n",
    "### Using docling v1 json\n",
    "# seed_data = dp.get_processed_dataset()\n",
    "\n",
    "### Using markdown file\n",
    "seed_data = dp.get_processed_markdown_dataset([f\"{data_dir}/ibm-annual-report-2024.md\"])\n",
    "\n",
    "# Note: For now v2 json is not supported\n",
    "\n",
    "seed_data.to_json(f'{output_dir}/seed_data.jsonl', orient='records', lines=True)"
   ]
  }
 ],
 "metadata": {
  "kernelspec": {
   "display_name": "docling",
   "language": "python",
   "name": "python3"
  },
  "language_info": {
   "codemirror_mode": {
    "name": "ipython",
    "version": 3
   },
   "file_extension": ".py",
   "mimetype": "text/x-python",
   "name": "python",
   "nbconvert_exporter": "python",
   "pygments_lexer": "ipython3",
   "version": "3.10.16"
  }
 },
 "nbformat": 4,
 "nbformat_minor": 2
}
